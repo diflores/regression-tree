{
 "cells": [
  {
   "cell_type": "code",
   "execution_count": 1,
   "metadata": {
    "ExecuteTime": {
     "end_time": "2018-10-31T02:13:23.488177Z",
     "start_time": "2018-10-31T02:13:22.667839Z"
    }
   },
   "outputs": [],
   "source": [
    "import pandas as pd\n",
    "import numpy as np\n",
    "import scipy\n",
    "from scipy import optimize\n",
    "import time"
   ]
  },
  {
   "cell_type": "code",
   "execution_count": 2,
   "metadata": {
    "ExecuteTime": {
     "end_time": "2018-10-31T02:13:26.518986Z",
     "start_time": "2018-10-31T02:13:23.491366Z"
    }
   },
   "outputs": [
    {
     "data": {
      "text/html": [
       "<div>\n",
       "<style scoped>\n",
       "    .dataframe tbody tr th:only-of-type {\n",
       "        vertical-align: middle;\n",
       "    }\n",
       "\n",
       "    .dataframe tbody tr th {\n",
       "        vertical-align: top;\n",
       "    }\n",
       "\n",
       "    .dataframe thead th {\n",
       "        text-align: right;\n",
       "    }\n",
       "</style>\n",
       "<table border=\"1\" class=\"dataframe\">\n",
       "  <thead>\n",
       "    <tr style=\"text-align: right;\">\n",
       "      <th></th>\n",
       "      <th>Amplitude</th>\n",
       "      <th>AndersonDarling</th>\n",
       "      <th>Autocor_length</th>\n",
       "      <th>Con</th>\n",
       "      <th>Eta_e</th>\n",
       "      <th>FluxPercentileRatioMid20</th>\n",
       "      <th>FluxPercentileRatioMid35</th>\n",
       "      <th>FluxPercentileRatioMid50</th>\n",
       "      <th>FluxPercentileRatioMid65</th>\n",
       "      <th>FluxPercentileRatioMid80</th>\n",
       "      <th>...</th>\n",
       "      <th>PeriodLS</th>\n",
       "      <th>Period_fit</th>\n",
       "      <th>Psi_CS</th>\n",
       "      <th>Psi_eta</th>\n",
       "      <th>Q31</th>\n",
       "      <th>Rcs</th>\n",
       "      <th>Skew</th>\n",
       "      <th>SlottedA_length</th>\n",
       "      <th>SmallKurtosis</th>\n",
       "      <th>Std</th>\n",
       "    </tr>\n",
       "  </thead>\n",
       "  <tbody>\n",
       "    <tr>\n",
       "      <th>0</th>\n",
       "      <td>1.416432</td>\n",
       "      <td>0.949482</td>\n",
       "      <td>3.0</td>\n",
       "      <td>0.000000</td>\n",
       "      <td>5.442293</td>\n",
       "      <td>0.243054</td>\n",
       "      <td>0.462373</td>\n",
       "      <td>0.653511</td>\n",
       "      <td>0.761790</td>\n",
       "      <td>0.924793</td>\n",
       "      <td>...</td>\n",
       "      <td>268.331543</td>\n",
       "      <td>0.025528</td>\n",
       "      <td>0.304804</td>\n",
       "      <td>0.310355</td>\n",
       "      <td>1.784879</td>\n",
       "      <td>0.304804</td>\n",
       "      <td>0.011895</td>\n",
       "      <td>19.899170</td>\n",
       "      <td>-1.266215</td>\n",
       "      <td>0.931676</td>\n",
       "    </tr>\n",
       "    <tr>\n",
       "      <th>1</th>\n",
       "      <td>0.443386</td>\n",
       "      <td>1.000000</td>\n",
       "      <td>1.0</td>\n",
       "      <td>0.000000</td>\n",
       "      <td>12042.752633</td>\n",
       "      <td>0.162446</td>\n",
       "      <td>0.231268</td>\n",
       "      <td>0.517775</td>\n",
       "      <td>0.720122</td>\n",
       "      <td>0.836798</td>\n",
       "      <td>...</td>\n",
       "      <td>0.508910</td>\n",
       "      <td>0.012390</td>\n",
       "      <td>0.309458</td>\n",
       "      <td>0.519645</td>\n",
       "      <td>0.397205</td>\n",
       "      <td>0.258203</td>\n",
       "      <td>-0.962335</td>\n",
       "      <td>0.147949</td>\n",
       "      <td>-0.183573</td>\n",
       "      <td>0.284637</td>\n",
       "    </tr>\n",
       "    <tr>\n",
       "      <th>2</th>\n",
       "      <td>0.170099</td>\n",
       "      <td>0.875986</td>\n",
       "      <td>4.0</td>\n",
       "      <td>0.030303</td>\n",
       "      <td>137.020266</td>\n",
       "      <td>0.033964</td>\n",
       "      <td>0.208724</td>\n",
       "      <td>0.378623</td>\n",
       "      <td>0.501416</td>\n",
       "      <td>0.869956</td>\n",
       "      <td>...</td>\n",
       "      <td>8.742769</td>\n",
       "      <td>0.040022</td>\n",
       "      <td>0.342646</td>\n",
       "      <td>0.700200</td>\n",
       "      <td>0.119849</td>\n",
       "      <td>0.368936</td>\n",
       "      <td>0.472161</td>\n",
       "      <td>0.147949</td>\n",
       "      <td>0.064528</td>\n",
       "      <td>0.089020</td>\n",
       "    </tr>\n",
       "    <tr>\n",
       "      <th>3</th>\n",
       "      <td>1.350858</td>\n",
       "      <td>0.999869</td>\n",
       "      <td>4.0</td>\n",
       "      <td>0.000000</td>\n",
       "      <td>23.583559</td>\n",
       "      <td>0.259476</td>\n",
       "      <td>0.593270</td>\n",
       "      <td>0.613808</td>\n",
       "      <td>0.817245</td>\n",
       "      <td>0.943033</td>\n",
       "      <td>...</td>\n",
       "      <td>379.949707</td>\n",
       "      <td>0.000843</td>\n",
       "      <td>0.349687</td>\n",
       "      <td>0.285682</td>\n",
       "      <td>1.867060</td>\n",
       "      <td>0.349687</td>\n",
       "      <td>-0.047072</td>\n",
       "      <td>23.597900</td>\n",
       "      <td>-1.454570</td>\n",
       "      <td>0.926506</td>\n",
       "    </tr>\n",
       "    <tr>\n",
       "      <th>4</th>\n",
       "      <td>0.248472</td>\n",
       "      <td>0.999947</td>\n",
       "      <td>3.0</td>\n",
       "      <td>0.000000</td>\n",
       "      <td>125.486491</td>\n",
       "      <td>0.202240</td>\n",
       "      <td>0.448444</td>\n",
       "      <td>0.565120</td>\n",
       "      <td>0.606539</td>\n",
       "      <td>0.840512</td>\n",
       "      <td>...</td>\n",
       "      <td>318.427795</td>\n",
       "      <td>0.022169</td>\n",
       "      <td>0.247451</td>\n",
       "      <td>0.578087</td>\n",
       "      <td>0.273482</td>\n",
       "      <td>0.247451</td>\n",
       "      <td>0.594605</td>\n",
       "      <td>0.147949</td>\n",
       "      <td>-0.689124</td>\n",
       "      <td>0.153349</td>\n",
       "    </tr>\n",
       "  </tbody>\n",
       "</table>\n",
       "<p>5 rows × 54 columns</p>\n",
       "</div>"
      ],
      "text/plain": [
       "   Amplitude  AndersonDarling  Autocor_length       Con         Eta_e  \\\n",
       "0   1.416432         0.949482             3.0  0.000000      5.442293   \n",
       "1   0.443386         1.000000             1.0  0.000000  12042.752633   \n",
       "2   0.170099         0.875986             4.0  0.030303    137.020266   \n",
       "3   1.350858         0.999869             4.0  0.000000     23.583559   \n",
       "4   0.248472         0.999947             3.0  0.000000    125.486491   \n",
       "\n",
       "   FluxPercentileRatioMid20  FluxPercentileRatioMid35  \\\n",
       "0                  0.243054                  0.462373   \n",
       "1                  0.162446                  0.231268   \n",
       "2                  0.033964                  0.208724   \n",
       "3                  0.259476                  0.593270   \n",
       "4                  0.202240                  0.448444   \n",
       "\n",
       "   FluxPercentileRatioMid50  FluxPercentileRatioMid65  \\\n",
       "0                  0.653511                  0.761790   \n",
       "1                  0.517775                  0.720122   \n",
       "2                  0.378623                  0.501416   \n",
       "3                  0.613808                  0.817245   \n",
       "4                  0.565120                  0.606539   \n",
       "\n",
       "   FluxPercentileRatioMid80    ...       PeriodLS  Period_fit    Psi_CS  \\\n",
       "0                  0.924793    ...     268.331543    0.025528  0.304804   \n",
       "1                  0.836798    ...       0.508910    0.012390  0.309458   \n",
       "2                  0.869956    ...       8.742769    0.040022  0.342646   \n",
       "3                  0.943033    ...     379.949707    0.000843  0.349687   \n",
       "4                  0.840512    ...     318.427795    0.022169  0.247451   \n",
       "\n",
       "    Psi_eta       Q31       Rcs      Skew  SlottedA_length  SmallKurtosis  \\\n",
       "0  0.310355  1.784879  0.304804  0.011895        19.899170      -1.266215   \n",
       "1  0.519645  0.397205  0.258203 -0.962335         0.147949      -0.183573   \n",
       "2  0.700200  0.119849  0.368936  0.472161         0.147949       0.064528   \n",
       "3  0.285682  1.867060  0.349687 -0.047072        23.597900      -1.454570   \n",
       "4  0.578087  0.273482  0.247451  0.594605         0.147949      -0.689124   \n",
       "\n",
       "        Std  \n",
       "0  0.931676  \n",
       "1  0.284637  \n",
       "2  0.089020  \n",
       "3  0.926506  \n",
       "4  0.153349  \n",
       "\n",
       "[5 rows x 54 columns]"
      ]
     },
     "execution_count": 2,
     "metadata": {},
     "output_type": "execute_result"
    }
   ],
   "source": [
    "dataframe = pd.read_csv(\"./FATS_GAIA.dat\")\n",
    "dataframe = dataframe.drop([\"Class\", \"ID\"], axis=1)\n",
    "dataframe.head()"
   ]
  },
  {
   "cell_type": "markdown",
   "metadata": {},
   "source": [
    "## Preprocesamiento: dividir base de datos en *train* y *test*"
   ]
  },
  {
   "cell_type": "code",
   "execution_count": 3,
   "metadata": {
    "ExecuteTime": {
     "end_time": "2018-10-31T02:13:26.805461Z",
     "start_time": "2018-10-31T02:13:26.522543Z"
    }
   },
   "outputs": [],
   "source": [
    "train = dataframe.sample(frac=0.8, random_state=7).reset_index()\n",
    "train = train.drop(\"index\", 1)\n",
    "test = dataframe.drop(train.index).reset_index()\n",
    "test = test.drop(\"index\", 1)"
   ]
  },
  {
   "cell_type": "code",
   "execution_count": 4,
   "metadata": {
    "ExecuteTime": {
     "end_time": "2018-10-31T02:13:26.871614Z",
     "start_time": "2018-10-31T02:13:26.808225Z"
    }
   },
   "outputs": [],
   "source": [
    "X_train = train[[column for column in train.columns if column != \"PeriodLS\"]]\n",
    "y_train = train[\"PeriodLS\"]\n",
    "X_test = test[[column for column in train.columns if column != \"PeriodLS\"]]\n",
    "y_test = test[\"PeriodLS\"]"
   ]
  },
  {
   "cell_type": "markdown",
   "metadata": {},
   "source": [
    "## Construcción del árbol"
   ]
  },
  {
   "cell_type": "code",
   "execution_count": 5,
   "metadata": {
    "ExecuteTime": {
     "end_time": "2018-10-31T02:13:26.890526Z",
     "start_time": "2018-10-31T02:13:26.874379Z"
    }
   },
   "outputs": [],
   "source": [
    "class Node:\n",
    "    id_count = 0\n",
    "\n",
    "    def __init__(self, X, y, parent=None):\n",
    "        self.X = X\n",
    "        self.y = y\n",
    "        self.parent = parent\n",
    "        self.id = Node.id_count\n",
    "        self.left = None\n",
    "        self.right = None\n",
    "        Node.id_count += 1\n",
    "        self.children = dict()\n",
    "\n",
    "    def find_best_split(self):\n",
    "        total_node_variance = self.y.var()\n",
    "        features_var_red = {}\n",
    "        for feature in self.X.columns:\n",
    "            print(feature)\n",
    "            feature_values = self.X[feature].unique()\n",
    "            values_var_red = []\n",
    "            for value in feature_values:\n",
    "                left_side = self.X[self.X[feature] <= value]\n",
    "                right_side = self.X[self.X[feature] > value]\n",
    "                left_side_var = self.y[self.y.index.isin(left_side.index)]\n",
    "                right_side_var = self.y[self.y.index.isin(right_side.index)]\n",
    "                final_var = total_node_variance - \\\n",
    "                    (left_side_var + right_side_var)\n",
    "                values_var_red.append(final_var)\n",
    "            max_var_red = max(values_var_red)\n",
    "            features_var_red[feature] = max_var_red\n",
    "        return max(features_var_red, key=features_var_red.get)\n",
    "\n",
    "    def split_node(self):\n",
    "        left_data = self.X[self.X[self.split_label] <= self.split_value]\n",
    "        right_data = self.X[self.X[self.split_label] > self.split_value]\n",
    "        left_target = self.y[self.y.index.isin(left_data.index)]\n",
    "        right_target = self.y[self.y.index.isin(right_data.index)]\n",
    "        return left_data, left_target, right_data, right_target\n",
    "\n",
    "    @staticmethod\n",
    "    def var_red_function(value, feature, X_values, y_values):\n",
    "        left_side = X_values[X_values[feature] <= value]\n",
    "        right_side = X_values[X_values[feature] > value]\n",
    "        left_side_y = y_values[y_values.index.isin(left_side.index)]\n",
    "        right_side_y = y_values[y_values.index.isin(right_side.index)]\n",
    "        return left_side_y.var() + right_side_y.var()\n",
    "\n",
    "    @staticmethod\n",
    "    def calculate_rss(y_values):\n",
    "        return np.sum((y_values - y_values.mean())**2)\n",
    "\n",
    "    @staticmethod\n",
    "    def rss_function(value, feature, X_values, y_values):\n",
    "        left_side = X_values[X_values[feature] <= value]\n",
    "        right_side = X_values[X_values[feature] > value]\n",
    "        left_side_y = y_values[y_values.index.isin(left_side.index)]\n",
    "        right_side_y = y_values[y_values.index.isin(right_side.index)]\n",
    "        return Node.calculate_rss(left_side_y) + Node.calculate_rss(\n",
    "            right_side_y)\n",
    "\n",
    "    def find_split_scipy(self, mode=\"rss\"):\n",
    "        features_var_red = dict()\n",
    "        for feature in self.X.columns:\n",
    "            min_feature_value = self.X[feature].min()\n",
    "            max_feature_value = self.X[feature].max()\n",
    "            if min_feature_value == max_feature_value:\n",
    "                continue\n",
    "            if mode == \"rss\":\n",
    "                optimal_split, split_var_red, ierr, numf = scipy.optimize.fminbound(\n",
    "                    Node.rss_function,\n",
    "                    min_feature_value,\n",
    "                    max_feature_value,\n",
    "                    args=(feature, self.X, self.y),\n",
    "                    full_output=1)\n",
    "            else:\n",
    "                optimal_split, split_var_red, ierr, numf = scipy.optimize.fminbound(\n",
    "                    Node.var_red_function,\n",
    "                    min_feature_value,\n",
    "                    max_feature_value,\n",
    "                    args=(feature, self.X, self.y),\n",
    "                    full_output=1)                \n",
    "            features_var_red[feature] = (split_var_red, optimal_split)\n",
    "        best_split = sorted(features_var_red.items(), key=lambda x: x[1])[0]\n",
    "        self.split_label = best_split[0]\n",
    "        self.split_value = best_split[1][-1]\n",
    "        return self.split_label, self.split_value"
   ]
  },
  {
   "cell_type": "code",
   "execution_count": 6,
   "metadata": {
    "ExecuteTime": {
     "end_time": "2018-10-31T02:13:26.915310Z",
     "start_time": "2018-10-31T02:13:26.893552Z"
    }
   },
   "outputs": [],
   "source": [
    "class RegressionTree:\n",
    "    def __init__(self, max_depth=5, min_values=5, optimize=\"rss\"):\n",
    "        self.max_depth = max_depth\n",
    "        self.min_values = min_values\n",
    "        self.optimize = optimize\n",
    "        self.depth = 0\n",
    "\n",
    "    def fit(self, data, target, parent=None, depth=0):\n",
    "        root = Node(data, target)\n",
    "        if len(root.X) <= self.min_values:\n",
    "            return root\n",
    "        if depth >= self.max_depth:\n",
    "            return root\n",
    "        root.find_split_scipy(mode=self.optimize)\n",
    "        left_data, left_target, right_data, right_target = root.split_node()\n",
    "        root.left = self.fit(left_data, left_target, root, depth + 1)\n",
    "        root.right = self.fit(right_data, left_target, root, depth + 1)\n",
    "        self.root = root\n",
    "\n",
    "    @staticmethod\n",
    "    def predict_datum(root, datum):\n",
    "        if root.left is None:\n",
    "            return root.y.mean()\n",
    "        if datum.loc[root.split_label] <= root.split_value:\n",
    "            return predict_datum(root.left, datum)\n",
    "        return RegressionTree.predict_datum(root.right, datum)\n",
    "\n",
    "    def predict(self, test_data):\n",
    "        return test_data.apply(lambda x: RegressionTree.predict_datum(self.root, x), axis=1)"
   ]
  },
  {
   "cell_type": "code",
   "execution_count": 7,
   "metadata": {
    "ExecuteTime": {
     "end_time": "2018-10-31T02:13:26.924955Z",
     "start_time": "2018-10-31T02:13:26.918875Z"
    }
   },
   "outputs": [],
   "source": [
    "def calculate_rmse(predictions, targets):\n",
    "    return np.sqrt(((predictions - targets)**2).mean())"
   ]
  },
  {
   "cell_type": "code",
   "execution_count": 8,
   "metadata": {
    "ExecuteTime": {
     "end_time": "2018-10-31T02:20:03.248134Z",
     "start_time": "2018-10-31T02:13:26.934387Z"
    }
   },
   "outputs": [
    {
     "name": "stdout",
     "output_type": "stream",
     "text": [
      "396.30714893341064\n"
     ]
    }
   ],
   "source": [
    "tree_rss = RegressionTree(5, 5, \"rss\")\n",
    "fit_start_time_rss = time.time()\n",
    "tree_rss.fit(X_train, y_train)\n",
    "fit_rss_time = time.time() - fit_start_time_rss\n",
    "print(fit_rss_time)"
   ]
  },
  {
   "cell_type": "code",
   "execution_count": 9,
   "metadata": {
    "ExecuteTime": {
     "end_time": "2018-10-31T02:20:31.387152Z",
     "start_time": "2018-10-31T02:20:03.251145Z"
    }
   },
   "outputs": [
    {
     "name": "stdout",
     "output_type": "stream",
     "text": [
      "179.29570279623692\n"
     ]
    }
   ],
   "source": [
    "y_pred_rss = tree_rss.predict(X_test)\n",
    "rmse_rss = calculate_rmse(y_pred_rss, y_test)\n",
    "print(rmse_rss)"
   ]
  },
  {
   "cell_type": "code",
   "execution_count": 10,
   "metadata": {
    "ExecuteTime": {
     "end_time": "2018-10-31T02:26:29.839698Z",
     "start_time": "2018-10-31T02:20:31.390620Z"
    }
   },
   "outputs": [
    {
     "name": "stdout",
     "output_type": "stream",
     "text": [
      "358.44494795799255\n"
     ]
    }
   ],
   "source": [
    "tree_var_red = RegressionTree(5, 5, \"var_red\")\n",
    "fit_start_time_var_red = time.time()\n",
    "tree_var_red.fit(X_train, y_train)\n",
    "fit_var_red_time = time.time() - fit_start_time_var_red\n",
    "print(fit_var_red_time)"
   ]
  },
  {
   "cell_type": "code",
   "execution_count": 11,
   "metadata": {
    "ExecuteTime": {
     "end_time": "2018-10-31T02:26:58.349668Z",
     "start_time": "2018-10-31T02:26:29.842479Z"
    }
   },
   "outputs": [
    {
     "name": "stdout",
     "output_type": "stream",
     "text": [
      "179.29570279623692\n"
     ]
    }
   ],
   "source": [
    "y_pred_var_red = tree_var_red.predict(X_test)\n",
    "rmse_var_red = calculate_rmse(y_pred_var_red, y_test)\n",
    "print(rmse_var_red)"
   ]
  },
  {
   "cell_type": "code",
   "execution_count": 12,
   "metadata": {
    "ExecuteTime": {
     "end_time": "2018-10-31T02:37:43.760494Z",
     "start_time": "2018-10-31T02:37:43.754890Z"
    }
   },
   "outputs": [
    {
     "name": "stdout",
     "output_type": "stream",
     "text": [
      "0.0\n"
     ]
    }
   ],
   "source": [
    "print(abs(rmse_rss - rmse_var_red))"
   ]
  },
  {
   "cell_type": "code",
   "execution_count": null,
   "metadata": {},
   "outputs": [],
   "source": []
  }
 ],
 "metadata": {
  "kernelspec": {
   "display_name": "Python 3",
   "language": "python",
   "name": "python3"
  },
  "language_info": {
   "codemirror_mode": {
    "name": "ipython",
    "version": 3
   },
   "file_extension": ".py",
   "mimetype": "text/x-python",
   "name": "python",
   "nbconvert_exporter": "python",
   "pygments_lexer": "ipython3",
   "version": "3.6.4"
  },
  "varInspector": {
   "cols": {
    "lenName": 16,
    "lenType": 16,
    "lenVar": 40
   },
   "kernels_config": {
    "python": {
     "delete_cmd_postfix": "",
     "delete_cmd_prefix": "del ",
     "library": "var_list.py",
     "varRefreshCmd": "print(var_dic_list())"
    },
    "r": {
     "delete_cmd_postfix": ") ",
     "delete_cmd_prefix": "rm(",
     "library": "var_list.r",
     "varRefreshCmd": "cat(var_dic_list()) "
    }
   },
   "types_to_exclude": [
    "module",
    "function",
    "builtin_function_or_method",
    "instance",
    "_Feature"
   ],
   "window_display": false
  }
 },
 "nbformat": 4,
 "nbformat_minor": 2
}
